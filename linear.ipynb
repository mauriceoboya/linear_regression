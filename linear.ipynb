{
 "cells": [
  {
   "cell_type": "markdown",
   "id": "fdeb8517",
   "metadata": {},
   "source": [
    "# Regression Analysis in Python"
   ]
  },
  {
   "cell_type": "markdown",
   "id": "ccd1fc61",
   "metadata": {},
   "source": [
    "#### Importing libraries"
   ]
  },
  {
   "cell_type": "code",
   "execution_count": 5,
   "id": "f75b056b",
   "metadata": {},
   "outputs": [],
   "source": [
    "import numpy as np\n",
    "import pandas as pd\n",
    "from sklearn.linear_model import LinearRegression"
   ]
  },
  {
   "cell_type": "code",
   "execution_count": 6,
   "id": "9e9efdf1",
   "metadata": {},
   "outputs": [],
   "source": [
    "internet = pd.read_csv('/home/fibonacci/Downloads/internetusage.csv')"
   ]
  },
  {
   "cell_type": "markdown",
   "id": "32d475a1",
   "metadata": {},
   "source": [
    "### fitting the regression Model"
   ]
  },
  {
   "cell_type": "code",
   "execution_count": 7,
   "id": "43ff4ac6",
   "metadata": {},
   "outputs": [],
   "source": [
    "\n",
    "y = internet['internet_usage'].values.reshape(-1,1)\n",
    "x = internet['bachelors_degree'].values.reshape(-1,1)\n",
    "model = LinearRegression().fit(x,y)"
   ]
  },
  {
   "cell_type": "code",
   "execution_count": 8,
   "id": "aa9b830b",
   "metadata": {},
   "outputs": [],
   "source": [
    "bach=float(int(10))"
   ]
  },
  {
   "cell_type": "code",
   "execution_count": 27,
   "id": "5e888c61",
   "metadata": {},
   "outputs": [],
   "source": [
    "bach=np.array([bach]).reshape(1,1)"
   ]
  },
  {
   "cell_type": "code",
   "execution_count": 28,
   "id": "c8144665",
   "metadata": {},
   "outputs": [
    {
     "name": "stdout",
     "output_type": "stream",
     "text": [
      "The predicted value is,[61.86515455]\n"
     ]
    }
   ],
   "source": [
    "print(f'The predicted value is,{model.predict(bach)[0].astype(float)}')"
   ]
  }
 ],
 "metadata": {
  "kernelspec": {
   "display_name": "Python 3.9.13 ('base')",
   "language": "python",
   "name": "python3"
  },
  "language_info": {
   "codemirror_mode": {
    "name": "ipython",
    "version": 3
   },
   "file_extension": ".py",
   "mimetype": "text/x-python",
   "name": "python",
   "nbconvert_exporter": "python",
   "pygments_lexer": "ipython3",
   "version": "3.9.13"
  },
  "vscode": {
   "interpreter": {
    "hash": "0da705b667aa14448c86628f36fb6c68737394840807df140b59e3f5d256ab8a"
   }
  }
 },
 "nbformat": 4,
 "nbformat_minor": 5
}
